{
  "nbformat": 4,
  "nbformat_minor": 0,
  "metadata": {
    "colab": {
      "provenance": []
    },
    "kernelspec": {
      "name": "python3",
      "display_name": "Python 3"
    },
    "language_info": {
      "name": "python"
    }
  },
  "cells": [
    {
      "cell_type": "markdown",
      "source": [
        "Task 1. Classify Temperatures:\n",
        "1.    Create empty lists for temperature classifications:\n",
        "(a)    Cold: temperatures below 10°C.\n",
        "(b)    Mild: temperatures between 10°C and 15°C.\n",
        "(c)    Comfortable: temperatures between 15°C and 20°C.\n",
        "2.\tIterate over the temperatures list and add each temperature to the appropriate category.\n",
        "3.    Print the lists to verify the classifications."
      ],
      "metadata": {
        "id": "hLXhMSef2OvO"
      }
    },
    {
      "cell_type": "code",
      "source": [
        "temperatures = [\n",
        "    8.2, 17.4, 14.1, 7.9, 18.0, 13.5, 9.0, 17.8, 13.0, 8.5,\n",
        "    16.5, 12.9, 7.7, 17.2, 13.3, 8.4, 16.7, 14.0, 9.5, 18.3, 13.4, 8.1,\n",
        "    17.9, 14.2, 7.6, 17.0, 12.8, 8.0, 16.8, 13.7, 7.8, 17.5, 13.6, 8.7,\n",
        "    17.1, 13.8, 9.2, 18.1, 13.9, 8.3, 16.4, 12.7, 8.9, 18.2, 13.1, 7.8,\n",
        "    16.6, 12.5\n",
        "]\n",
        "#Creating empty list for temperature classification\n",
        "cold = []\n",
        "mild = []\n",
        "comfortable = []\n",
        "\n",
        "for temp in temperatures:\n",
        "    if temp < 10:\n",
        "        cold.append(temp)\n",
        "    elif 10 <= temp <= 15:\n",
        "        mild.append(temp)\n",
        "    elif 15 < temp <= 20:\n",
        "        comfortable.append(temp)\n",
        "print(\"Cold temperatures (below 10°C):\", cold)\n",
        "print(\"Mild temperatures (10°C to 15°C):\", mild)\n",
        "print(\"Comfortable temperatures (15°C to 20°C):\", comfortable)"
      ],
      "metadata": {
        "colab": {
          "base_uri": "https://localhost:8080/"
        },
        "id": "XWXyCfyG2Q85",
        "outputId": "13ba7503-579a-42c2-dee6-87cf919a3a8a"
      },
      "execution_count": null,
      "outputs": [
        {
          "output_type": "stream",
          "name": "stdout",
          "text": [
            "Cold temperatures (below 10°C): [8.2, 7.9, 9.0, 8.5, 7.7, 8.4, 9.5, 8.1, 7.6, 8.0, 7.8, 8.7, 9.2, 8.3, 8.9, 7.8]\n",
            "Mild temperatures (10°C to 15°C): [14.1, 13.5, 13.0, 12.9, 13.3, 14.0, 13.4, 14.2, 12.8, 13.7, 13.6, 13.8, 13.9, 12.7, 13.1, 12.5]\n",
            "Comfortable temperatures (15°C to 20°C): [17.4, 18.0, 17.8, 16.5, 17.2, 16.7, 18.3, 17.9, 17.0, 16.8, 17.5, 17.1, 18.1, 16.4, 18.2, 16.6]\n"
          ]
        }
      ]
    },
    {
      "cell_type": "markdown",
      "source": [
        "Task 2. Based on Data - Answer all the Questions:\n",
        "1. How many times was it mild?\n",
        "(a)    Hint: Count the number of items in the mild list and print the result.\n",
        "2.\tHow many times was it comfortable?\n",
        "3.\tHow many times was it cold?"
      ],
      "metadata": {
        "id": "hhqWQWEm2l-5"
      }
    },
    {
      "cell_type": "code",
      "source": [
        "temperatures = [\n",
        "    8.2, 17.4, 14.1, 7.9, 18.0, 13.5, 9.0, 17.8, 13.0, 8.5,\n",
        "    16.5, 12.9, 7.7, 17.2, 13.3, 8.4, 16.7, 14.0, 9.5, 18.3, 13.4, 8.1,\n",
        "    17.9, 14.2, 7.6, 17.0, 12.8, 8.0, 16.8, 13.7, 7.8, 17.5, 13.6, 8.7,\n",
        "    17.1, 13.8, 9.2, 18.1, 13.9, 8.3, 16.4, 12.7, 8.9, 18.2, 13.1, 7.8,\n",
        "    16.6, 12.5\n",
        "]\n",
        "cold = []\n",
        "mild = []\n",
        "comfortable = []\n",
        "\n",
        "for temp in temperatures:\n",
        "    if temp < 10:\n",
        "        cold.append(temp)\n",
        "    elif 10 <= temp <= 15:\n",
        "        mild.append(temp)\n",
        "    elif 15 < temp <= 20:\n",
        "        comfortable.append(temp)\n",
        "\n",
        "# Couting the numbers on the lists\n",
        "cold_count = len(cold)\n",
        "mild_count = len(mild)\n",
        "comfortable_count = len(comfortable)\n",
        "\n",
        "print(\"Number of cold days (below 10°C):\", cold_count)\n",
        "print(\"Number of mild days (10°C to 15°C):\", mild_count)\n",
        "print(\"Number of comfortable days (15°C to 20°C):\", comfortable_count)"
      ],
      "metadata": {
        "colab": {
          "base_uri": "https://localhost:8080/"
        },
        "id": "gWLTGawU2mkX",
        "outputId": "eee6fc18-af4b-4d2a-fd76-812407ef660b"
      },
      "execution_count": null,
      "outputs": [
        {
          "output_type": "stream",
          "name": "stdout",
          "text": [
            "Number of cold days (below 10°C): 16\n",
            "Number of mild days (10°C to 15°C): 16\n",
            "Number of comfortable days (15°C to 20°C): 16\n"
          ]
        }
      ]
    },
    {
      "cell_type": "markdown",
      "source": [
        "Task 3. Convert Temperatures from Celsius to Fahrenheit\n",
        "Using the formula for temperature conversion, convert each reading from Celsius to Fahrenheit and store it in a new list called temperatures_fahrenheit.\n",
        "                                         \n",
        "1.\tIterate over the temperatures list and apply the formula to convert each temperature.\n",
        "2.\tStore the results in the new list.\n",
        "3.    Print the converted Fahrenheit values."
      ],
      "metadata": {
        "id": "Afd--f_n25WH"
      }
    },
    {
      "cell_type": "code",
      "source": [
        "temperatures = [\n",
        "    8.2, 17.4, 14.1, 7.9, 18.0, 13.5, 9.0, 17.8, 13.0, 8.5,\n",
        "    16.5, 12.9, 7.7, 17.2, 13.3, 8.4, 16.7, 14.0, 9.5, 18.3, 13.4, 8.1,\n",
        "    17.9, 14.2, 7.6, 17.0, 12.8, 8.0, 16.8, 13.7, 7.8, 17.5, 13.6, 8.7,\n",
        "    17.1, 13.8, 9.2, 18.1, 13.9, 8.3, 16.4, 12.7, 8.9, 18.2, 13.1, 7.8,\n",
        "    16.6, 12.5\n",
        "]\n",
        "temperatures_fahrenheit = []\n",
        "\n",
        "# Iterating over the temperatures list and converting each value to Fahrenheit\n",
        "for temp in temperatures:\n",
        "    fahrenheit = (temp * 9/5) + 32\n",
        "    temperatures_fahrenheit.append(fahrenheit)\n",
        "print(\"Temperatures in Fahrenheit:\", temperatures_fahrenheit)"
      ],
      "metadata": {
        "colab": {
          "base_uri": "https://localhost:8080/"
        },
        "id": "Bfj93pmj27jk",
        "outputId": "98108232-de87-4710-eba1-7ed7cca8ee6c"
      },
      "execution_count": null,
      "outputs": [
        {
          "output_type": "stream",
          "name": "stdout",
          "text": [
            "Temperatures in Fahrenheit: [46.76, 63.32, 57.379999999999995, 46.22, 64.4, 56.3, 48.2, 64.04, 55.4, 47.3, 61.7, 55.22, 45.86, 62.959999999999994, 55.94, 47.120000000000005, 62.059999999999995, 57.2, 49.1, 64.94, 56.120000000000005, 46.58, 64.22, 57.56, 45.68, 62.6, 55.04, 46.4, 62.24, 56.66, 46.04, 63.5, 56.48, 47.66, 62.78, 56.84, 48.56, 64.58, 57.02, 46.94, 61.519999999999996, 54.86, 48.02, 64.75999999999999, 55.58, 46.04, 61.88, 54.5]\n"
          ]
        }
      ]
    },
    {
      "cell_type": "markdown",
      "source": [
        "Task 4. Analyze Temperature Patterns by Time of Day:\n",
        "Scenario: Each day’s readings are grouped as:\n",
        "•    Night (00-08),\n",
        "•    Evening (08-16),\n",
        "•    Day (16-24).\n",
        "1.\tCreate empty lists for night, day, and evening temperatures.\n",
        "2.\tIterate over the temperatures list, assigning values to each time-of-day list based on their position.\n",
        "3.\tCalculate and print the average day-time temperature.\n",
        "4.    (Optional) Plot ”day vs. temperature” using matplotlib."
      ],
      "metadata": {
        "id": "qY2WBICg3GU-"
      }
    },
    {
      "cell_type": "code",
      "source": [
        "import matplotlib.pyplot as plt\n",
        "temperatures = [\n",
        "    8.2, 17.4, 14.1, 7.9, 18.0, 13.5, 9.0, 17.8, 13.0, 8.5,\n",
        "    16.5, 12.9, 7.7, 17.2, 13.3, 8.4, 16.7, 14.0, 9.5, 18.3, 13.4, 8.1,\n",
        "    17.9, 14.2, 7.6, 17.0, 12.8, 8.0, 16.8, 13.7, 7.8, 17.5, 13.6, 8.7,\n",
        "    17.1, 13.8, 9.2, 18.1, 13.9, 8.3, 16.4, 12.7, 8.9, 18.2, 13.1, 7.8,\n",
        "    16.6, 12.5\n",
        "]\n",
        "\n",
        "# Create empty lists for night, evening, and day temperatures\n",
        "night = []\n",
        "evening = []\n",
        "day = []\n",
        "\n",
        "# Assign temperatures to each time of day\n",
        "for i in range(0, len(temperatures), 3):\n",
        "    night.append(temperatures[i])\n",
        "    evening.append(temperatures[i + 1])\n",
        "    day.append(temperatures[i + 2])\n",
        "\n",
        "average_day_temperature = sum(day) / len(day)\n",
        "print(\"Night temperatures:\", night)\n",
        "print(\"Evening temperatures:\", evening)\n",
        "print(\"Day temperatures:\", day)\n",
        "print(\"Average daytime temperature:\", average_day_temperature)"
      ],
      "metadata": {
        "colab": {
          "base_uri": "https://localhost:8080/"
        },
        "id": "ec84gkvd3Ho_",
        "outputId": "9a9ce6fb-c1e7-4c33-8680-72a2d47e5272"
      },
      "execution_count": null,
      "outputs": [
        {
          "output_type": "stream",
          "name": "stdout",
          "text": [
            "Night temperatures: [8.2, 7.9, 9.0, 8.5, 7.7, 8.4, 9.5, 8.1, 7.6, 8.0, 7.8, 8.7, 9.2, 8.3, 8.9, 7.8]\n",
            "Evening temperatures: [17.4, 18.0, 17.8, 16.5, 17.2, 16.7, 18.3, 17.9, 17.0, 16.8, 17.5, 17.1, 18.1, 16.4, 18.2, 16.6]\n",
            "Day temperatures: [14.1, 13.5, 13.0, 12.9, 13.3, 14.0, 13.4, 14.2, 12.8, 13.7, 13.6, 13.8, 13.9, 12.7, 13.1, 12.5]\n",
            "Average daytime temperature: 13.40625\n"
          ]
        }
      ]
    },
    {
      "cell_type": "markdown",
      "source": [
        "Task 1 - Sum of Nested Lists:\n",
        "Scenario: You have a list that contains numbers and other lists of numbers (nested lists). You want to find the total sum of all the numbers in this structure. Task:\n",
        "•\tWrite a recursive function sum_nested_list(nested_list) that:\n",
        "1.    Takes a nested list (a list that can contain numbers or other lists of numbers) as input.\n",
        "2.\tSums all numbers at every depth level of the list, regardless of how deeply nested the numbers are.\n",
        "•    Test the function with a sample nested list, such as nested_list = [1, [2, [3, 4], 5], 6, [7, 8]].\n",
        "The result should be the total sum of all the numbers."
      ],
      "metadata": {
        "id": "cblJUiTg3iw7"
      }
    },
    {
      "cell_type": "code",
      "source": [
        "def sum_nested_list(nested_list):\n",
        "    total_sum = 0\n",
        "\n",
        "    for element in nested_list:\n",
        "        if isinstance(element, list):  # If the element is a list, call the function recursively\n",
        "            total_sum += sum_nested_list(element)\n",
        "        else:\n",
        "            total_sum += element\n",
        "\n",
        "    return total_sum\n",
        "nested_list = [1, [2, [3, 4], 5], 6, [7, 8]]\n",
        "result = sum_nested_list(nested_list)\n",
        "\n",
        "print(\"The total sum of all numbers is:\", result)\n",
        "\n"
      ],
      "metadata": {
        "colab": {
          "base_uri": "https://localhost:8080/"
        },
        "id": "ljxPqQ-G3rxj",
        "outputId": "f5a8ad1c-82b9-4149-c660-df3088a47f34"
      },
      "execution_count": null,
      "outputs": [
        {
          "output_type": "stream",
          "name": "stdout",
          "text": [
            "The total sum of all numbers is: 36\n"
          ]
        }
      ]
    },
    {
      "cell_type": "markdown",
      "source": [
        "Task 2 - Generate All Permutations of a String:\n",
        "Scenario: Given a string, generate all possible permutations of its characters. This is useful for understanding backtracking and recursive depth-first search. Task:\n",
        "•\tWrite a recursive function generate_permutations(s) that:\n",
        "– Takes a string s as input and returns a list of all unique permutations.\n",
        "•    Test with strings like ”abc” and ”aab”.\n",
        "print(generate_permutations(\"abc\"))\n",
        "# Should return [’abc’, ’acb’, ’bac’, ’bca’, ’cab’, ’cba’]"
      ],
      "metadata": {
        "id": "OlHAxnuB30Nj"
      }
    },
    {
      "cell_type": "code",
      "source": [
        "def generate_permutations(s):\n",
        "    def backtrack(start, end, current_permutation):\n",
        "        if start == end:\n",
        "            permutations.add(''.join(current_permutation))\n",
        "        else:\n",
        "            for i in range(start, end):\n",
        "                if i > start and current_permutation[i] == current_permutation[start]:\n",
        "                    continue\n",
        "                current_permutation[start], current_permutation[i] = current_permutation[i], current_permutation[start]\n",
        "                # Recurse with the next index\n",
        "                backtrack(start + 1, end, current_permutation)\n",
        "                # undo the swap\n",
        "                current_permutation[start], current_permutation[i] = current_permutation[i], current_permutation[start]\n",
        "\n",
        "    # Convert the string into a list to allow swapping\n",
        "    s_list = list(s)\n",
        "    permutations = set()\n",
        "    backtrack(0, len(s_list), s_list)\n",
        "    return list(permutations)\n",
        "\n",
        "print(generate_permutations(\"abc\"))\n",
        "print(generate_permutations(\"aab\"))\n"
      ],
      "metadata": {
        "colab": {
          "base_uri": "https://localhost:8080/"
        },
        "id": "CarRBhE_30rW",
        "outputId": "4b931cd6-7040-4e28-b606-8632b55227db"
      },
      "execution_count": null,
      "outputs": [
        {
          "output_type": "stream",
          "name": "stdout",
          "text": [
            "['cba', 'abc', 'bca', 'bac', 'acb', 'cab']\n",
            "['aba', 'aab', 'baa']\n"
          ]
        }
      ]
    },
    {
      "cell_type": "markdown",
      "source": [
        "1.    Write a recursive function calculate_directory_size(directory) where:\n",
        "•    directory is a dictionary where keys represent file names (with values as sizes in KB) or directory names (with values as another dictionary representing a subdirectory).\n",
        "•    The function should return the total size of the directory, including all nested subdirectories."
      ],
      "metadata": {
        "id": "oRAfjoor4ZUC"
      }
    },
    {
      "cell_type": "code",
      "source": [
        "def calculate_directory_size(directory):\n",
        "    total_size = 0\n",
        "    for item, value in directory.items():\n",
        "        if isinstance(value, dict):\n",
        "            total_size += calculate_directory_size(value)\n",
        "        else:\n",
        "            total_size += value\n",
        "\n",
        "    return total_size\n",
        "\n",
        "directory_structure = {\n",
        "    \"file1.txt\": 10,\n",
        "    \"file2.txt\": 20,\n",
        "    \"subdir1\": {\n",
        "        \"file3.txt\": 50,\n",
        "        \"subdir2\": {\n",
        "            \"file4.txt\": 10,\n",
        "            \"file5.txt\": 250\n",
        "        }\n",
        "    },\n",
        "    \"subdir3\": {\n",
        "        \"file6.txt\": 300\n",
        "    }\n",
        "}\n",
        "\n",
        "total_size = calculate_directory_size(directory_structure)\n",
        "print(f\"Total directory size: {total_size} KB\")"
      ],
      "metadata": {
        "colab": {
          "base_uri": "https://localhost:8080/"
        },
        "id": "emGxp7ZA4a3L",
        "outputId": "4570263c-e835-41aa-965a-0f4377b8481b"
      },
      "execution_count": null,
      "outputs": [
        {
          "output_type": "stream",
          "name": "stdout",
          "text": [
            "Total directory size: 1100 KB\n"
          ]
        }
      ]
    },
    {
      "cell_type": "markdown",
      "source": [
        "2.\tTest the function with a sample directory structure."
      ],
      "metadata": {
        "id": "kaSpauvT4ut9"
      }
    },
    {
      "cell_type": "code",
      "source": [
        "def calculate_directory_size(directory):\n",
        "    total_size = 0\n",
        "    for item, value in directory.items():\n",
        "        if isinstance(value, dict):  # If the value is a subdirectory, recurse\n",
        "            total_size += calculate_directory_size(value)\n",
        "        else:  # If the value is a file then add its size to the total\n",
        "            total_size += value\n",
        "\n",
        "    return total_size\n",
        "\n",
        "directory_structure = {\n",
        "    \"file1.txt\": 200,\n",
        "    \"file2.txt\": 300,\n",
        "    \"subdir1\": {\n",
        "        \"file3.txt\": 400,\n",
        "        \"subdir2\": {\n",
        "            \"file4.txt\": 100,\n",
        "            \"file5.txt\": 250\n",
        "        }\n",
        "    },\n",
        "    \"subdir3\": {\n",
        "        \"file6.txt\": 150\n",
        "    }\n",
        "}\n",
        "\n",
        "# Calculate the total size of the directory\n",
        "total_size = calculate_directory_size(directory_structure)\n",
        "print(f\"Total directory size: {total_size} KB\")"
      ],
      "metadata": {
        "colab": {
          "base_uri": "https://localhost:8080/"
        },
        "id": "jTfDaH0g4vTo",
        "outputId": "3458b087-3a3f-48eb-e499-d170c2d4d5fc"
      },
      "execution_count": null,
      "outputs": [
        {
          "output_type": "stream",
          "name": "stdout",
          "text": [
            "Total directory size: 1400 KB\n"
          ]
        }
      ]
    },
    {
      "cell_type": "markdown",
      "source": [
        "Task 1 - Coin Change Problem:\n",
        "Scenario: Given a set of coin denominations and a target amount, find the minimum number of coins needed to make the amount. If it’s not possible, return - 1. Task:\n",
        "1.    Write a function min_coins(coins, amount) that: • Uses DP to calculate the minimum number of coins needed to make up the amount.\n",
        "2.    Test with coins = [1, 2, 5] and amount = 11. The result should be 3 (using coins\n",
        "[5, 5, 1])."
      ],
      "metadata": {
        "id": "53jDk8hY5Pdo"
      }
    },
    {
      "cell_type": "code",
      "source": [
        "def min_coins(coins, amount):\n",
        "    dp = [float('inf')] * (amount + 1)\n",
        "    dp[0] = 0\n",
        "\n",
        "    for coin in coins:\n",
        "        for i in range(coin, amount + 1):\n",
        "            dp[i] = min(dp[i], dp[i - coin] + 1)\n",
        "\n",
        "    # If infinity, return -1\n",
        "    return dp[amount] if dp[amount] != float('inf') else -1\n",
        "\n",
        "# Test the function with coins = [1, 2, 5] and amount = 11\n",
        "coins = [1, 2, 5]\n",
        "amount = 11\n",
        "result = min_coins(coins, amount)\n",
        "print(f\"Minimum number of coins needed: {result}\")\n"
      ],
      "metadata": {
        "colab": {
          "base_uri": "https://localhost:8080/"
        },
        "id": "qk8Wt2vf5P6r",
        "outputId": "844c37d1-7e8e-4cd1-ab3b-cb712aeb6a05"
      },
      "execution_count": null,
      "outputs": [
        {
          "output_type": "stream",
          "name": "stdout",
          "text": [
            "Minimum number of coins needed: 3\n"
          ]
        }
      ]
    },
    {
      "cell_type": "markdown",
      "source": [
        "Task 2 - Longest Common Subsequence (LCS):\n",
        "Scenario: Given two strings, find the length of their longest common subsequence (LCS).\n",
        "This is useful in text comparison.\n",
        "Task:\n",
        "1. Write a function longest_common_subsequence(s1, s2) that:\n",
        "• Uses DP to find the length of the LCS of two strings s1 and s2.\n",
        "2. Test with strings like \"abcde\" and \"ace\"; the LCS length should be 3 (\"ace\")."
      ],
      "metadata": {
        "id": "HY0Ev6Oe5YJN"
      }
    },
    {
      "cell_type": "code",
      "source": [
        "def longest_common_subsequence(s1, s2):\n",
        "    dp = [[0] * (len(s2) + 1) for _ in range(len(s1) + 1)]\n",
        "    for i in range(1, len(s1) + 1):\n",
        "        for j in range(1, len(s2) + 1):\n",
        "            if s1[i - 1] == s2[j - 1]:\n",
        "                dp[i][j] = dp[i - 1][j - 1] + 1\n",
        "            else:\n",
        "                dp[i][j] = max(dp[i - 1][j], dp[i][j - 1])\n",
        "\n",
        "    # The length of the LCS\n",
        "    return dp[len(s1)][len(s2)]\n",
        "\n",
        "# Test the function with strings s1 = \"abcde\" and s2 = \"ace\"\n",
        "s1 = \"abcde\"\n",
        "s2 = \"ace\"\n",
        "result = longest_common_subsequence(s1, s2)\n",
        "print(f\"The length of the Longest Common Subsequence is: {result}\")"
      ],
      "metadata": {
        "colab": {
          "base_uri": "https://localhost:8080/"
        },
        "id": "WoJVJrlx5Zd3",
        "outputId": "20f90345-007f-47c2-dc5b-dc0eebd91469"
      },
      "execution_count": null,
      "outputs": [
        {
          "output_type": "stream",
          "name": "stdout",
          "text": [
            "The length of the Longest Common Subsequence is: 3\n"
          ]
        }
      ]
    },
    {
      "cell_type": "markdown",
      "source": [
        "Task 3 - 0/1 Knapsack Problem:\n",
        "Scenario: You have a list of items, each with a weight and a value. Given a weight capacity,\n",
        "maximize the total value of items you can carry without exceeding the weight capacity.\n",
        "Task:\n",
        "1. Write a function knapsack(weights, values, capacity) that:\n",
        "• Uses DP to determine the maximum value that can be achieved within the given\n",
        "weight capacity.\n",
        "2. Test with weights"
      ],
      "metadata": {
        "id": "d_8oVCDJ5lIo"
      }
    },
    {
      "cell_type": "code",
      "source": [
        "def knapsack(weights, values, capacity):\n",
        "    n = len(weights)\n",
        "    dp = [[0] * (capacity + 1) for _ in range(n + 1)]\n",
        "\n",
        "    for i in range(1, n + 1):\n",
        "        for j in range(1, capacity + 1):\n",
        "            if weights[i - 1] <= j:\n",
        "                # If the item can be included, take the max\n",
        "                dp[i][j] = max(dp[i - 1][j], dp[i - 1][j - weights[i - 1]] + values[i - 1])\n",
        "            else:\n",
        "                # If the item cannot be included, just carry over the previous value\n",
        "                dp[i][j] = dp[i - 1][j]\n",
        "    return dp[n][capacity]\n",
        "\n",
        "weights = [1, 2, 3, 8, 4, 5]  # Weights of the items\n",
        "values = [20, 5, 10, 40, 15, 25]  # Values of the items\n",
        "capacity = 10  # Maximum weight capacity of the knapsack\n",
        "\n",
        "result = knapsack(weights, values, capacity)\n",
        "print(f\"The maximum value that can be carried in the knapsack is: {result}\")"
      ],
      "metadata": {
        "colab": {
          "base_uri": "https://localhost:8080/"
        },
        "id": "ES7kckAM5lvj",
        "outputId": "558d8202-cffd-4613-ca39-06555ff9eabc"
      },
      "execution_count": null,
      "outputs": [
        {
          "output_type": "stream",
          "name": "stdout",
          "text": [
            "The maximum value that can be carried in the knapsack is: 60\n"
          ]
        }
      ]
    }
  ]
}